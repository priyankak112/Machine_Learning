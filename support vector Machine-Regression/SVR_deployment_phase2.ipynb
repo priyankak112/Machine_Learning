{
 "cells": [
  {
   "cell_type": "code",
   "execution_count": 9,
   "id": "53c4d307-2925-42d5-971f-8fdf8883eca2",
   "metadata": {},
   "outputs": [],
   "source": [
    "import pickle\n",
    "loaded_model=pickle.load(open(\"finalized_svr_model.sav\",'rb'))\n",
    "result=loaded_model.predict([[1.17644103,0.84515251,0.94354978,2.,-0.76870611]])"
   ]
  },
  {
   "cell_type": "code",
   "execution_count": 10,
   "id": "53cd3de2-bf5e-40c5-89a3-b9218a9f9940",
   "metadata": {},
   "outputs": [
    {
     "data": {
      "text/plain": [
       "array([158135.59513533])"
      ]
     },
     "execution_count": 10,
     "metadata": {},
     "output_type": "execute_result"
    }
   ],
   "source": [
    "result"
   ]
  },
  {
   "cell_type": "code",
   "execution_count": null,
   "id": "dc0958e1-fcd7-4f01-a156-ef9c61e4ff3f",
   "metadata": {},
   "outputs": [],
   "source": []
  }
 ],
 "metadata": {
  "kernelspec": {
   "display_name": "Python 3 (ipykernel)",
   "language": "python",
   "name": "python3"
  },
  "language_info": {
   "codemirror_mode": {
    "name": "ipython",
    "version": 3
   },
   "file_extension": ".py",
   "mimetype": "text/x-python",
   "name": "python",
   "nbconvert_exporter": "python",
   "pygments_lexer": "ipython3",
   "version": "3.13.5"
  }
 },
 "nbformat": 4,
 "nbformat_minor": 5
}
