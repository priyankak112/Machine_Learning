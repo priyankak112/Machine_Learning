{
 "cells": [
  {
   "cell_type": "code",
   "execution_count": 1,
   "id": "6b34a0de-ef8d-4c40-a175-d4856f74b6ad",
   "metadata": {},
   "outputs": [],
   "source": [
    "import pandas as pd\n",
    "import numpy as np"
   ]
  },
  {
   "cell_type": "code",
   "execution_count": 2,
   "id": "10c66721-631e-48ab-b13d-b1514430588d",
   "metadata": {},
   "outputs": [],
   "source": [
    "dataset = pd.read_csv('CKD.csv')\n",
    "dataset=pd.get_dummies(dataset,drop_first=True)\n",
    "indep=dataset[['age', 'bp', 'al', 'su', 'bgr', 'bu', 'sc', 'sod', 'pot', 'hrmo', 'pcv',\n",
    "       'wc', 'rc', 'sg_b', 'sg_c', 'sg_d', 'sg_e', 'rbc_normal', 'pc_normal',\n",
    "       'pcc_present', 'ba_present', 'htn_yes', 'dm_yes', 'cad_yes',\n",
    "       'appet_yes', 'pe_yes', 'ane_yes']]\n",
    "dep=dataset[['classification_yes']]\n",
    "from sklearn.model_selection import train_test_split\n",
    "x_train,x_test,y_train,y_test=train_test_split(indep,dep,test_size=0.30,random_state=0)"
   ]
  },
  {
   "cell_type": "code",
   "execution_count": null,
   "id": "636ab8f0-43b1-49f7-b27e-15a6d9d6cfeb",
   "metadata": {},
   "outputs": [],
   "source": [
    "from sklearn.naive_bayes import GaussianNB\n",
    "classifier = GaussianNB()\n",
    "from sklearn.model_selection import GridSearchCV\n",
    "gnb_param_grid = {\n",
    "    'var_smoothing': np.logspace(0, -9, num=100)\n",
    "}\n",
    "grid=GridSearchCV(classifier,gnb_param_grid,refit=True,verbose=3,n_jobs=-1,scoring='f1_weighted')\n",
    "grid.fit(x_train,y_train)\n"
   ]
  },
  {
   "cell_type": "code",
   "execution_count": null,
   "id": "2a4308b8-6852-4009-8913-d5c3e6bb1998",
   "metadata": {},
   "outputs": [],
   "source": [
    "print(\"The best parameter:\",grid.best_params_)"
   ]
  },
  {
   "cell_type": "code",
   "execution_count": null,
   "id": "d06b8e27-9546-4742-94f7-4076665c2e30",
   "metadata": {},
   "outputs": [],
   "source": [
    "y_pred = grid.predict(x_test)\n",
    "from sklearn.metrics import confusion_matrix\n",
    "cm = confusion_matrix(y_test, y_pred)\n",
    "from sklearn.metrics import classification_report\n",
    "clf_report = classification_report(y_test, y_pred)              \n",
    "print(clf_report)\n",
    "print(cm)"
   ]
  },
  {
   "cell_type": "code",
   "execution_count": null,
   "id": "3eeab6d6-1382-42fa-9f18-c830430a8cf1",
   "metadata": {},
   "outputs": [],
   "source": [
    "from sklearn.metrics import f1_score\n",
    "f1_wght_average=f1_score(y_test,y_pred,average='weighted')\n",
    "print(\"The F1 score final:\",f1_wght_average)"
   ]
  },
  {
   "cell_type": "code",
   "execution_count": null,
   "id": "45cc4685-676a-49d5-817f-dab05f84ae82",
   "metadata": {},
   "outputs": [],
   "source": [
    "from sklearn.metrics import roc_auc_score\n",
    "scr=roc_auc_score(y_test,grid.predict_proba(x_test)[:,1])\n",
    "print(\"The roc_auc_score is:\",scr)"
   ]
  },
  {
   "cell_type": "code",
   "execution_count": null,
   "id": "a5ff30ae-abb1-48a4-8c68-4e9630493cb0",
   "metadata": {},
   "outputs": [],
   "source": [
    "result=grid.predict([[20.0, 70.0, 0.0, 0.0, 123.0, 44.0, 1.0, 135.0, 3.8, 14.6, 44.0,\n",
    "       5500.0, 4.8, False, False, False, False, True, True, False, False,\n",
    "       False, False, False, True, False, False]])\n",
    "print(result)"
   ]
  },
  {
   "cell_type": "code",
   "execution_count": null,
   "id": "b11ad710-45ee-4ecf-aec7-3bf83190ce8c",
   "metadata": {},
   "outputs": [],
   "source": [
    "from sklearn.naive_bayes import MultinomialNB\n",
    "classifier = MultinomialNB()\n",
    "from sklearn.model_selection import GridSearchCV\n",
    "mnb_param_grid = {\n",
    "    'alpha': [0.001, 0.01, 0.1, 1.0, 10.0, 100.0],\n",
    "    'fit_prior': [True, False]\n",
    "}\n",
    "grid=GridSearchCV(classifier,mnb_param_grid,refit=True,verbose=3,n_jobs=-1,scoring='f1_weighted')\n",
    "grid.fit(x_train,y_train)"
   ]
  },
  {
   "cell_type": "code",
   "execution_count": null,
   "id": "2c8131ae-ce69-49ed-8436-25afada2e162",
   "metadata": {},
   "outputs": [],
   "source": [
    "print(\"The best parameter:\",grid.best_params_)"
   ]
  },
  {
   "cell_type": "code",
   "execution_count": null,
   "id": "1aa33a25-63e2-45fd-b051-5f0a31c0bfaf",
   "metadata": {},
   "outputs": [],
   "source": [
    "y_pred = grid.predict(x_test)\n",
    "from sklearn.metrics import confusion_matrix\n",
    "cm = confusion_matrix(y_test, y_pred)\n",
    "from sklearn.metrics import classification_report\n",
    "clf_report = classification_report(y_test, y_pred)              \n",
    "print(clf_report)\n",
    "print(cm)"
   ]
  },
  {
   "cell_type": "code",
   "execution_count": null,
   "id": "e0248433-5fdf-449a-a76e-5c192570c94f",
   "metadata": {},
   "outputs": [],
   "source": [
    "from sklearn.metrics import f1_score\n",
    "f1_wght_average=f1_score(y_test,y_pred,average='weighted')\n",
    "print(\"The F1 score final:\",f1_wght_average)"
   ]
  },
  {
   "cell_type": "code",
   "execution_count": null,
   "id": "2ae9c5c8-a342-49a2-8e8e-d994abb57f28",
   "metadata": {},
   "outputs": [],
   "source": [
    "from sklearn.metrics import roc_auc_score\n",
    "scr=roc_auc_score(y_test,grid.predict_proba(x_test)[:,1])\n",
    "print(\"The roc_auc_score is:\",scr)"
   ]
  },
  {
   "cell_type": "code",
   "execution_count": null,
   "id": "662d8242-85f9-4e74-958a-3e9efe82202f",
   "metadata": {},
   "outputs": [],
   "source": [
    "from sklearn.naive_bayes import BernoulliNB\n",
    "classifier = BernoulliNB()\n",
    "from sklearn.model_selection import GridSearchCV\n",
    "bnb_param_grid = {\n",
    "    'alpha': [0.001, 0.01, 0.1, 1.0]\n",
    "    }\n",
    "grid=GridSearchCV(classifier,mnb_param_grid,refit=True,verbose=3,n_jobs=-1,scoring='f1_weighted')\n",
    "grid.fit(x_train,y_train)"
   ]
  },
  {
   "cell_type": "code",
   "execution_count": null,
   "id": "b2e3b4a9-145a-4454-ae1f-7ceb13b54de7",
   "metadata": {},
   "outputs": [],
   "source": [
    "print(\"The best parameter:\",grid.best_params_)"
   ]
  },
  {
   "cell_type": "code",
   "execution_count": null,
   "id": "a797e73f-f314-4826-b0a9-69ae247093a5",
   "metadata": {},
   "outputs": [],
   "source": [
    "y_pred = grid.predict(x_test)\n",
    "from sklearn.metrics import confusion_matrix\n",
    "cm = confusion_matrix(y_test, y_pred)\n",
    "from sklearn.metrics import classification_report\n",
    "clf_report = classification_report(y_test, y_pred)              \n",
    "print(clf_report)\n",
    "print(cm)"
   ]
  },
  {
   "cell_type": "code",
   "execution_count": null,
   "id": "e5e8b419-b280-415d-990a-a2cdf9d907f1",
   "metadata": {},
   "outputs": [],
   "source": [
    "from sklearn.metrics import f1_score\n",
    "f1_wght_average=f1_score(y_test,y_pred,average='weighted')\n",
    "print(\"The F1 score final:\",f1_wght_average)"
   ]
  },
  {
   "cell_type": "code",
   "execution_count": null,
   "id": "43e95f9e-bdc0-4983-ac97-6e6e6d331fe7",
   "metadata": {},
   "outputs": [],
   "source": [
    "from sklearn.metrics import roc_auc_score\n",
    "scr=roc_auc_score(y_test,grid.predict_proba(x_test)[:,1])\n",
    "print(\"The roc_auc_score is:\",scr)"
   ]
  },
  {
   "cell_type": "code",
   "execution_count": 11,
   "id": "e05fcda5-336a-4147-ad74-b0afaf23afd7",
   "metadata": {},
   "outputs": [
    {
     "name": "stdout",
     "output_type": "stream",
     "text": [
      "Features in Training Data: (279, 27)\n",
      "Features in Test Data: (120, 27)\n"
     ]
    }
   ],
   "source": [
    "# Check the number of columns (features)\n",
    "print(\"Features in Training Data:\", x_train.shape)\n",
    "print(\"Features in Test Data:\", x_test.shape)"
   ]
  },
  {
   "cell_type": "code",
   "execution_count": null,
   "id": "3d5332d3-bb43-41da-9a8b-99bea9244a32",
   "metadata": {},
   "outputs": [],
   "source": [
    "from sklearn.naive_bayes import ComplementNB\n",
    "classifier = ComplementNB()\n",
    "from sklearn.model_selection import GridSearchCV\n",
    "cmnb_param_grid = {\n",
    "    # Alpha controls the degree of smoothing; small values mean less smoothing.\n",
    "    'alpha': [0.001, 0.01, 0.1, 1.0, 10.0],    \n",
    "    # Typically left as True, but testing both can sometimes improve results.\n",
    "    'fit_prior': [True, False]\n",
    "}\n",
    "grid=GridSearchCV(classifier,cmnb_param_grid,refit=True,verbose=3,n_jobs=-1,scoring='f1_weighted')\n",
    "grid.fit(x_train,y_train)"
   ]
  },
  {
   "cell_type": "code",
   "execution_count": null,
   "id": "9c4ba736-476a-4543-b691-e66f1dec6153",
   "metadata": {},
   "outputs": [],
   "source": [
    "print(\"The best parameter:\",grid.best_params_)"
   ]
  },
  {
   "cell_type": "code",
   "execution_count": null,
   "id": "a77baa01-4cae-4ad6-ac9e-90ad0d97c57b",
   "metadata": {},
   "outputs": [],
   "source": [
    "y_pred = grid.predict(x_test)\n",
    "from sklearn.metrics import confusion_matrix\n",
    "cm = confusion_matrix(y_test, y_pred)\n",
    "from sklearn.metrics import classification_report\n",
    "clf_report = classification_report(y_test, y_pred)              \n",
    "print(clf_report)\n",
    "print(cm)"
   ]
  },
  {
   "cell_type": "code",
   "execution_count": null,
   "id": "820e5f2e-accd-4aa4-b128-b8b9d7d9a9a2",
   "metadata": {},
   "outputs": [],
   "source": [
    "from sklearn.metrics import f1_score\n",
    "f1_wght_average=f1_score(y_test,y_pred,average='weighted')\n",
    "print(\"The F1 score final:\",f1_wght_average)"
   ]
  },
  {
   "cell_type": "code",
   "execution_count": null,
   "id": "86254c2e-03d7-4c0b-aba9-77d0f84457f5",
   "metadata": {},
   "outputs": [],
   "source": [
    "from sklearn.metrics import roc_auc_score\n",
    "scr=roc_auc_score(y_test,grid.predict_proba(x_test)[:,1])\n",
    "print(\"The roc_auc_score is:\",scr)"
   ]
  },
  {
   "cell_type": "code",
   "execution_count": null,
   "id": "c0c9e984-71b0-4319-9373-d279b9cc15b0",
   "metadata": {},
   "outputs": [],
   "source": []
  }
 ],
 "metadata": {
  "kernelspec": {
   "display_name": "Python 3 (ipykernel)",
   "language": "python",
   "name": "python3"
  },
  "language_info": {
   "codemirror_mode": {
    "name": "ipython",
    "version": 3
   },
   "file_extension": ".py",
   "mimetype": "text/x-python",
   "name": "python",
   "nbconvert_exporter": "python",
   "pygments_lexer": "ipython3",
   "version": "3.13.5"
  }
 },
 "nbformat": 4,
 "nbformat_minor": 5
}
