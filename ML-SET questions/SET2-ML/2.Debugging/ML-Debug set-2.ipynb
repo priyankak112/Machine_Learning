{
 "cells": [
  {
   "cell_type": "code",
   "execution_count": null,
   "id": "07069d04",
   "metadata": {},
   "outputs": [],
   "source": [
    "#1.Why does this train-test split fail?\n",
    "X_train, X_test, y_train, y_test = train_test_split(X, y, test_size=1.2, random_state=42) #test size shouldnot be >1\n"
   ]
  },
  {
   "cell_type": "code",
   "execution_count": null,
   "id": "bc576203-f5ba-48a8-a151-e7ad255edbd6",
   "metadata": {},
   "outputs": [],
   "source": [
    "#Ans:\n",
    "X_train, X_test, y_train, y_test = train_test_split(X, y, test_size=0.2, random_state=42)"
   ]
  },
  {
   "cell_type": "code",
   "execution_count": 2,
   "id": "154d94c6",
   "metadata": {},
   "outputs": [
    {
     "name": "stdout",
     "output_type": "stream",
     "text": [
      "1.0\n"
     ]
    }
   ],
   "source": [
    "#2.\n",
    "from sklearn.tree import DecisionTreeClassifier\n",
    "\n",
    "X = [[1, 2], [3, 4], [5, 6]]\n",
    "y = [0, 1, 0]\n",
    "\n",
    "model = DecisionTreeClassifier(max_depth=100) #overffiting occurs when max_depth=100\n",
    "model.fit(X, y)\n",
    "\n",
    "print(model.score(X, y))\n"
   ]
  },
  {
   "cell_type": "code",
   "execution_count": 1,
   "id": "f9ac3fa9-21a2-4cc3-85d0-1a1d73181f6d",
   "metadata": {},
   "outputs": [
    {
     "name": "stdout",
     "output_type": "stream",
     "text": [
      "1.0\n"
     ]
    }
   ],
   "source": [
    "#Ans:\n",
    "from sklearn.tree import DecisionTreeClassifier\n",
    "\n",
    "X = [[1, 2], [3, 4], [5, 6]]\n",
    "y = [0, 1, 0]\n",
    "\n",
    "model = DecisionTreeClassifier(max_depth=3)\n",
    "model.fit(X, y)\n",
    "\n",
    "print(model.score(X, y))"
   ]
  },
  {
   "cell_type": "code",
   "execution_count": null,
   "id": "75083423",
   "metadata": {},
   "outputs": [],
   "source": [
    "#3.\n",
    "from sklearn.cluster import KMeans\n",
    "import numpy as np\n",
    "X = np.array([[1, 2], [3, 4], [5, 6]])\n",
    "\n",
    "model = KMeans(n_clusters=5)#no of cluster cannot exceed no of datapoints\n",
    "model.fit(X)"
   ]
  },
  {
   "cell_type": "code",
   "execution_count": null,
   "id": "4d292e5a-5d4a-489d-8a90-7da0f8c19d57",
   "metadata": {},
   "outputs": [],
   "source": [
    "#Ans:\n",
    "from sklearn.cluster import KMeans\n",
    "import numpy as np\n",
    "X = np.array([[1, 2], [3, 4], [5, 6]])\n",
    "\n",
    "model = KMeans(n_clusters=2)\n",
    "model.fit(X)"
   ]
  },
  {
   "cell_type": "code",
   "execution_count": null,
   "id": "0a4620d3",
   "metadata": {},
   "outputs": [],
   "source": [
    "#4.\n",
    "import pandas as pd  #spelling mistake for pandas \n",
    "df = pd.DataFrame({'A': [1, 2, 3]})\n",
    "print(df)"
   ]
  },
  {
   "cell_type": "code",
   "execution_count": null,
   "id": "a0e5217d",
   "metadata": {},
   "outputs": [],
   "source": [
    "#5.\n",
    "\n",
    "from sklearn.tree import DecisionTreeClassifier  # Typo in 'DecisionTreeClassifier'\n",
    "\n",
    "model = DecisionTreeClassifier()\n",
    "\n"
   ]
  },
  {
   "cell_type": "code",
   "execution_count": null,
   "id": "4448a281",
   "metadata": {},
   "outputs": [],
   "source": [
    "#6.\n",
    "from sklearn.tree import DecisionTreeClassifier\n",
    "\n",
    "model = DecisionTreeClassifier(depth=3)  \n"
   ]
  },
  {
   "cell_type": "code",
   "execution_count": null,
   "id": "668075db-1288-4bae-8f81-50d2ce26c159",
   "metadata": {},
   "outputs": [],
   "source": [
    "#Ans:\n",
    "from sklearn.tree import DecisionTreeClassifier\n",
    "\n",
    "model = DecisionTreeClassifier(max_depth=3) #parameter name is wrong"
   ]
  },
  {
   "cell_type": "code",
   "execution_count": null,
   "id": "b84af6a5",
   "metadata": {},
   "outputs": [],
   "source": [
    "#7.\n",
    "from sklearn.linear_model import LinearRegression\n",
    "\n",
    "X = [[1], [2], [3], [4]]\n",
    "y = [2, 4, 6, 8]\n",
    "\n",
    "model = LinearRegression()\n",
    "model.fit(X, y)\n",
    "\n",
    "print(model.coef)  # Incorrect attribute name\n"
   ]
  },
  {
   "cell_type": "code",
   "execution_count": 3,
   "id": "317ee935-2740-4df1-b1ab-099986c500df",
   "metadata": {},
   "outputs": [
    {
     "name": "stdout",
     "output_type": "stream",
     "text": [
      "[2.]\n"
     ]
    }
   ],
   "source": [
    "#Ans:\n",
    "from sklearn.linear_model import LinearRegression\n",
    "\n",
    "X = [[1], [2], [3], [4]]\n",
    "y = [2, 4, 6, 8]\n",
    "\n",
    "model = LinearRegression()\n",
    "model.fit(X, y)\n",
    "\n",
    "print(model.coef_)  # Incorrect attribute name"
   ]
  },
  {
   "cell_type": "code",
   "execution_count": null,
   "id": "592dbcfe",
   "metadata": {},
   "outputs": [],
   "source": [
    "#8.\n",
    "from sklearn.neighbors import KNeighborsClassifier\n",
    "\n",
    "X_train = [[1, 2], [3, 4], [5, 6]]\n",
    "y_train = [0, 1, 0]\n",
    "\n",
    "#model = KNeighborsClassifier(n_neighbors=0)  # Invalid value for n_neighbors\n",
    "model = KNeighborsClassifier(n_neighbors=1) \n",
    "model.fit(X_train, y_train)\n"
   ]
  },
  {
   "cell_type": "code",
   "execution_count": 6,
   "id": "5d2ddecc",
   "metadata": {},
   "outputs": [
    {
     "name": "stdout",
     "output_type": "stream",
     "text": [
      "0    10\n",
      "1    20\n",
      "2    30\n",
      "Name: A, dtype: int64\n"
     ]
    }
   ],
   "source": [
    "#9.\n",
    "import pandas as pd\n",
    "df = pd.DataFrame({'A': [10, 20, 30], 'B': [1, 2, 3]})\n",
    "df\n",
    "#print(df.iloc['A'])  # Incorrect: iloc requires integer indexes\n",
    "#Here loc[] to use label index\n",
    "print(df.loc[:,'A']) \n"
   ]
  },
  {
   "cell_type": "code",
   "execution_count": null,
   "id": "4ca9a757",
   "metadata": {},
   "outputs": [],
   "source": [
    "#10.\n",
    "from sklearn.ensemble import RandomForestClassifier\n",
    "\n",
    "X_train = [[1, 2], [3, 4], [5, 6]]\n",
    "y_train = [0, 1, 0]\n",
    "\n",
    "model = RandomForestClassifier()\n",
    "model.fit(X_train, y_train)\n",
    "\n",
    "probs = model.predict_proba([[2, 3]])[1]  # Incorrect index\n",
    "print(probs)\n"
   ]
  },
  {
   "cell_type": "code",
   "execution_count": null,
   "id": "493e9a09",
   "metadata": {},
   "outputs": [],
   "source": [
    "#Ans:\n",
    "from sklearn.ensemble import RandomForestClassifier\n",
    "X_train = [[1, 2], [3, 4], [5, 6]]\n",
    "y_train = [0, 1, 0]\n",
    "model = RandomForestClassifier()\n",
    "model.fit(X_train, y_train)\n",
    "probs = model.predict_proba([[2, 3]])[0]  #To access only one row  \n",
    "print(probs)"
   ]
  },
  {
   "cell_type": "code",
   "execution_count": null,
   "id": "80fac483",
   "metadata": {},
   "outputs": [],
   "source": []
  }
 ],
 "metadata": {
  "kernelspec": {
   "display_name": "Python 3 (ipykernel)",
   "language": "python",
   "name": "python3"
  },
  "language_info": {
   "codemirror_mode": {
    "name": "ipython",
    "version": 3
   },
   "file_extension": ".py",
   "mimetype": "text/x-python",
   "name": "python",
   "nbconvert_exporter": "python",
   "pygments_lexer": "ipython3",
   "version": "3.13.5"
  }
 },
 "nbformat": 4,
 "nbformat_minor": 5
}
