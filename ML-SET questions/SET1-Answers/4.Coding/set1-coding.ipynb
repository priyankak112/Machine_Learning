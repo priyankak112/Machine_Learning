{
 "cells": [
  {
   "cell_type": "code",
   "execution_count": null,
   "id": "2f07bf40",
   "metadata": {},
   "outputs": [],
   "source": [
    "#1.\n",
    "Question 1:A retail store wants to identify customers who make frequent purchases. Given the dataset below, write a Python program to:\n",
    "Group customers by their IDs.\n",
    "\n",
    "\n",
    "Calculate the total purchase amount per customer.\n",
    "\n",
    "\n",
    "Identify the top 3 customers with the highest purchase amounts.\n",
    "\n",
    "\n",
    "Dataset:\n",
    "data = {'Customer_ID': [101, 102, 103, 101, 104, 102, 101, 105, 102, 103],\n",
    "        'Purchase_Amount': [200, 150, 180, 220, 300, 200, 100, 400, 250, 300]}\n",
    "\n",
    "Expected Output:\n",
    "Total Purchases per Customer:\n",
    "   Customer_ID  Purchase_Amount\n",
    "0          101              520\n",
    "1          102              600\n",
    "2          103              480\n",
    "3          104              300\n",
    "4          105              400\n",
    "\n",
    "Top 3 Frequent Customers:\n",
    "   Customer_ID  Purchase_Amount\n",
    "1          102              600\n",
    "0          101              520\n",
    "2          103              480\n"
   ]
  },
  {
   "cell_type": "code",
   "execution_count": 12,
   "id": "f62492f1-5475-4e39-8d99-52db86c4da08",
   "metadata": {},
   "outputs": [
    {
     "data": {
      "text/html": [
       "<div>\n",
       "<style scoped>\n",
       "    .dataframe tbody tr th:only-of-type {\n",
       "        vertical-align: middle;\n",
       "    }\n",
       "\n",
       "    .dataframe tbody tr th {\n",
       "        vertical-align: top;\n",
       "    }\n",
       "\n",
       "    .dataframe thead th {\n",
       "        text-align: right;\n",
       "    }\n",
       "</style>\n",
       "<table border=\"1\" class=\"dataframe\">\n",
       "  <thead>\n",
       "    <tr style=\"text-align: right;\">\n",
       "      <th></th>\n",
       "      <th>Customer_ID</th>\n",
       "      <th>Purchase_Amount</th>\n",
       "    </tr>\n",
       "  </thead>\n",
       "  <tbody>\n",
       "    <tr>\n",
       "      <th>1</th>\n",
       "      <td>102</td>\n",
       "      <td>600</td>\n",
       "    </tr>\n",
       "    <tr>\n",
       "      <th>0</th>\n",
       "      <td>101</td>\n",
       "      <td>520</td>\n",
       "    </tr>\n",
       "    <tr>\n",
       "      <th>2</th>\n",
       "      <td>103</td>\n",
       "      <td>480</td>\n",
       "    </tr>\n",
       "  </tbody>\n",
       "</table>\n",
       "</div>"
      ],
      "text/plain": [
       "   Customer_ID  Purchase_Amount\n",
       "1          102              600\n",
       "0          101              520\n",
       "2          103              480"
      ]
     },
     "execution_count": 12,
     "metadata": {},
     "output_type": "execute_result"
    }
   ],
   "source": [
    "import pandas as pd\n",
    "data = {'Customer_ID': [101, 102, 103, 101, 104, 102, 101, 105, 102, 103],\n",
    "        'Purchase_Amount': [200, 150, 180, 220, 300, 200, 100, 400, 250, 300]}\n",
    "df=pd.DataFrame(data)\n",
    "total_amt_per_cus=df.groupby('Customer_ID')['Purchase_Amount'].sum().reset_index()\n",
    "new=total_amt_per_cus.sort_values(by=['Purchase_Amount'],ascending=False).head(3)\n",
    "new\n"
   ]
  },
  {
   "cell_type": "code",
   "execution_count": null,
   "id": "1b725120",
   "metadata": {},
   "outputs": [],
   "source": [
    "#2. Predicting House Prices with Linear Regression\n",
    "A real estate company wants to predict house prices based on square footage. Write a Python program to:\n",
    "Train a Linear Regression model.\n",
    "\n",
    "\n",
    "Predict house prices for given test data.\n",
    "\n",
    "\n",
    "Dataset:\n",
    "data = {'Square_Feet': [1500, 2000, 2500, 3000, 3500],\n",
    "        'Price': [300000, 400000, 500000, 600000, 700000]}\n",
    "\n",
    "Test Data: [[1800], [2800]]\n",
    "Expected Output:\n",
    "Predicted Prices:\n",
    "[360000. 560000.]\n",
    "\n"
   ]
  },
  {
   "cell_type": "code",
   "execution_count": 19,
   "id": "e198a743-a6b8-4d81-aa67-45afd3a5a3bf",
   "metadata": {},
   "outputs": [
    {
     "name": "stdout",
     "output_type": "stream",
     "text": [
      "Predicted output:\n",
      "[360000. 560000.]\n"
     ]
    },
    {
     "name": "stderr",
     "output_type": "stream",
     "text": [
      "C:\\Users\\huawei\\anaconda3\\envs\\aiml\\Lib\\site-packages\\sklearn\\utils\\validation.py:2739: UserWarning: X does not have valid feature names, but LinearRegression was fitted with feature names\n",
      "  warnings.warn(\n"
     ]
    }
   ],
   "source": [
    "import pandas as pd\n",
    "from sklearn.linear_model import LinearRegression\n",
    "data = {'Square_Feet': [1500, 2000, 2500, 3000, 3500],\n",
    "        'Price': [300000, 400000, 500000, 600000, 700000]}\n",
    "df=pd.DataFrame(data)\n",
    "indep=df[['Square_Feet']]\n",
    "dep=df[['Price']]\n",
    "from sklearn.model_selection import train_test_split\n",
    "x_train,x_test,y_train,y_test=train_test_split(indep,dep,test_size=0.2,random_state=42)\n",
    "model=LinearRegression()\n",
    "model.fit(x_train,y_train)\n",
    "Test_Data=[[1800], [2800]]\n",
    "y_pred=model.predict(Test_Data)\n",
    "print(\"Predicted output:\")\n",
    "print(y_pred.ravel())\n"
   ]
  },
  {
   "cell_type": "code",
   "execution_count": null,
   "id": "2aae1fb9",
   "metadata": {},
   "outputs": [],
   "source": [
    "#3:\n",
    "Identifying Frequent Labels in a Dataset\n",
    "A company wants to identify the top 3 most common categories in a dataset. Given the dataset below, write a Python program to:\n",
    "Group the data by Category.\n",
    "\n",
    "\n",
    "Count the total occurrences of each category.\n",
    "\n",
    "\n",
    "Identify the top 3 most frequent categories.\n",
    "\n",
    "\n",
    "Dataset:\n",
    "data = {'Category': ['A', 'B', 'C', 'A', 'D', 'B', 'A', 'E', 'B', 'C', 'C', 'A'],\n",
    "        'Value': [10, 15, 20, 30, 25, 18, 22, 40, 35, 50, 45, 15]}\n",
    "\n",
    "Expected Output:\n",
    "\n",
    "Total Occurrences per Category:\n",
    "  Category  Count\n",
    "0        A      4\n",
    "1        B      3\n",
    "2        C      3\n",
    "3        D      1\n",
    "4        E      1\n",
    "\n",
    "Top 3 Frequent Categories:\n",
    "  Category  Count\n",
    "0        A      4\n",
    "1        B      3\n",
    "2        C      3\n"
   ]
  },
  {
   "cell_type": "code",
   "execution_count": 30,
   "id": "d75e083d-8bec-4fd3-88d9-36245edf7d84",
   "metadata": {},
   "outputs": [
    {
     "data": {
      "text/html": [
       "<div>\n",
       "<style scoped>\n",
       "    .dataframe tbody tr th:only-of-type {\n",
       "        vertical-align: middle;\n",
       "    }\n",
       "\n",
       "    .dataframe tbody tr th {\n",
       "        vertical-align: top;\n",
       "    }\n",
       "\n",
       "    .dataframe thead th {\n",
       "        text-align: right;\n",
       "    }\n",
       "</style>\n",
       "<table border=\"1\" class=\"dataframe\">\n",
       "  <thead>\n",
       "    <tr style=\"text-align: right;\">\n",
       "      <th></th>\n",
       "      <th>Category</th>\n",
       "      <th>Value</th>\n",
       "    </tr>\n",
       "  </thead>\n",
       "  <tbody>\n",
       "    <tr>\n",
       "      <th>0</th>\n",
       "      <td>A</td>\n",
       "      <td>4</td>\n",
       "    </tr>\n",
       "    <tr>\n",
       "      <th>1</th>\n",
       "      <td>B</td>\n",
       "      <td>3</td>\n",
       "    </tr>\n",
       "    <tr>\n",
       "      <th>2</th>\n",
       "      <td>C</td>\n",
       "      <td>3</td>\n",
       "    </tr>\n",
       "  </tbody>\n",
       "</table>\n",
       "</div>"
      ],
      "text/plain": [
       "  Category  Value\n",
       "0        A      4\n",
       "1        B      3\n",
       "2        C      3"
      ]
     },
     "execution_count": 30,
     "metadata": {},
     "output_type": "execute_result"
    }
   ],
   "source": [
    "import pandas as pd\n",
    "data = {'Category': ['A', 'B', 'C', 'A', 'D', 'B', 'A', 'E', 'B', 'C', 'C', 'A'],\n",
    "        'Value': [10, 15, 20, 30, 25, 18, 22, 40, 35, 50, 45, 15]}\n",
    "df=pd.DataFrame(data)\n",
    "df\n",
    "tot_occur=df.groupby('Category')['Value'].count().reset_index()\n",
    "top_3=tot_occur.sort_values(by=['Value'],ascending=False).head(3)\n",
    "top_3"
   ]
  },
  {
   "cell_type": "code",
   "execution_count": null,
   "id": "e00c3d13",
   "metadata": {},
   "outputs": [],
   "source": [
    "#4.\n",
    "Predicting Missing Values Using Mean Imputation\n",
    "A dataset contains missing values in the Age column. Write a Python program to:\n",
    "Replace missing values with the mean of the column.\n",
    "\n",
    "\n",
    "Display the updated DataFrame.\n",
    "\n",
    "\n",
    "Dataset:\n",
    "data = {'Name': ['Alice', 'Bob', 'Charlie', 'David', 'Eve'],\n",
    "        'Age': [25, 30, None, 35, None]}\n",
    "\n",
    "Expected Output:\n",
    "\n",
    "Original Data:\n",
    "     Name   Age\n",
    "0  Alice  25.0\n",
    "1    Bob  30.0\n",
    "2 Charlie   NaN\n",
    "3  David  35.0\n",
    "4    Eve   NaN\n",
    "\n",
    "Data after Imputation:\n",
    "     Name   Age\n",
    "0  Alice  25.0\n",
    "1    Bob  30.0\n",
    "2 Charlie  30.0\n",
    "3  David  35.0\n",
    "4    Eve  30.0\n"
   ]
  },
  {
   "cell_type": "code",
   "execution_count": 22,
   "id": "ccace021-7e3a-4777-9200-4e245de9dbeb",
   "metadata": {},
   "outputs": [
    {
     "data": {
      "text/html": [
       "<div>\n",
       "<style scoped>\n",
       "    .dataframe tbody tr th:only-of-type {\n",
       "        vertical-align: middle;\n",
       "    }\n",
       "\n",
       "    .dataframe tbody tr th {\n",
       "        vertical-align: top;\n",
       "    }\n",
       "\n",
       "    .dataframe thead th {\n",
       "        text-align: right;\n",
       "    }\n",
       "</style>\n",
       "<table border=\"1\" class=\"dataframe\">\n",
       "  <thead>\n",
       "    <tr style=\"text-align: right;\">\n",
       "      <th></th>\n",
       "      <th>Name</th>\n",
       "      <th>Age</th>\n",
       "    </tr>\n",
       "  </thead>\n",
       "  <tbody>\n",
       "    <tr>\n",
       "      <th>0</th>\n",
       "      <td>Alice</td>\n",
       "      <td>25.0</td>\n",
       "    </tr>\n",
       "    <tr>\n",
       "      <th>1</th>\n",
       "      <td>Bob</td>\n",
       "      <td>30.0</td>\n",
       "    </tr>\n",
       "    <tr>\n",
       "      <th>2</th>\n",
       "      <td>Charlie</td>\n",
       "      <td>30.0</td>\n",
       "    </tr>\n",
       "    <tr>\n",
       "      <th>3</th>\n",
       "      <td>David</td>\n",
       "      <td>35.0</td>\n",
       "    </tr>\n",
       "    <tr>\n",
       "      <th>4</th>\n",
       "      <td>Eve</td>\n",
       "      <td>30.0</td>\n",
       "    </tr>\n",
       "  </tbody>\n",
       "</table>\n",
       "</div>"
      ],
      "text/plain": [
       "      Name   Age\n",
       "0    Alice  25.0\n",
       "1      Bob  30.0\n",
       "2  Charlie  30.0\n",
       "3    David  35.0\n",
       "4      Eve  30.0"
      ]
     },
     "execution_count": 22,
     "metadata": {},
     "output_type": "execute_result"
    }
   ],
   "source": [
    "import pandas as pd\n",
    "from sklearn.impute import SimpleImputer\n",
    "imputer=SimpleImputer(strategy='mean')\n",
    "data = {'Name': ['Alice', 'Bob', 'Charlie', 'David', 'Eve'],\n",
    "        'Age': [25, 30, None, 35, None]}\n",
    "df=pd.DataFrame(data)\n",
    "df['Age']=imputer.fit_transform(df[['Age']])\n",
    "df"
   ]
  },
  {
   "cell_type": "code",
   "execution_count": null,
   "id": "46620661",
   "metadata": {},
   "outputs": [],
   "source": [
    "# 5: \n",
    "Implementing a Simple Linear Regression Model\n",
    "You are given a dataset with Experience (years) and Salary ($). Write a Python program to:\n",
    "Train a Linear Regression model.\n",
    "\n",
    "\n",
    "Predict the salary for an individual with 6 years of experience.\n",
    "\n",
    "\n",
    "Dataset:\n",
    "import pandas as pd\n",
    "\n",
    "data = {'Experience': [1, 2, 3, 4, 5], \n",
    "        'Salary': [30000, 35000, 40000, 45000, 50000]}\n",
    "df = pd.DataFrame(data)\n",
    "\n",
    "Expected Output (Example):\n",
    "\n",
    "Predicted Salary for 6 years of experience: $55000\n",
    "\n",
    "\n"
   ]
  },
  {
   "cell_type": "code",
   "execution_count": 26,
   "id": "2af98454",
   "metadata": {},
   "outputs": [
    {
     "name": "stdout",
     "output_type": "stream",
     "text": [
      "Predicted Salary for 6 years of experience: $ [55000.]\n"
     ]
    },
    {
     "name": "stderr",
     "output_type": "stream",
     "text": [
      "C:\\Users\\huawei\\anaconda3\\envs\\aiml\\Lib\\site-packages\\sklearn\\utils\\validation.py:2739: UserWarning: X does not have valid feature names, but LinearRegression was fitted with feature names\n",
      "  warnings.warn(\n"
     ]
    }
   ],
   "source": [
    "import pandas as pd\n",
    "from sklearn.linear_model import LinearRegression\n",
    "data = {'Experience': [1, 2, 3, 4, 5], \n",
    "        'Salary': [30000, 35000, 40000, 45000, 50000]}\n",
    "df=pd.DataFrame(data)\n",
    "indep=df[['Experience']]\n",
    "dep=df[['Salary']]\n",
    "from sklearn.model_selection import train_test_split\n",
    "x_train,x_test,y_train,y_test=train_test_split(indep,dep,test_size=0.2,random_state=42)\n",
    "model=LinearRegression()\n",
    "model.fit(x_train,y_train)\n",
    "y_pred=model.predict([[6]])\n",
    "print(\"Predicted Salary for 6 years of experience: $\",y_pred.ravel())\n"
   ]
  },
  {
   "cell_type": "code",
   "execution_count": null,
   "id": "95c2b57e-fe48-4503-850b-5f352ea22875",
   "metadata": {},
   "outputs": [],
   "source": []
  }
 ],
 "metadata": {
  "kernelspec": {
   "display_name": "Python 3 (ipykernel)",
   "language": "python",
   "name": "python3"
  },
  "language_info": {
   "codemirror_mode": {
    "name": "ipython",
    "version": 3
   },
   "file_extension": ".py",
   "mimetype": "text/x-python",
   "name": "python",
   "nbconvert_exporter": "python",
   "pygments_lexer": "ipython3",
   "version": "3.13.5"
  }
 },
 "nbformat": 4,
 "nbformat_minor": 5
}
